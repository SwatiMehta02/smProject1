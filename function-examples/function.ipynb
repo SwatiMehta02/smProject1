{
 "cells": [
  {
   "cell_type": "code",
   "execution_count": 4,
   "id": "4a1917f1-398c-4b19-a57a-a1958bc91cf3",
   "metadata": {},
   "outputs": [],
   "source": [
    "# function parameter and arguments\n",
    "def multiply_by_num(x,y,z=2):\n",
    "    return (x+y)*z    "
   ]
  },
  {
   "cell_type": "code",
   "execution_count": 14,
   "id": "f4cb1382-27cc-42ac-96f4-c4f41699a1c5",
   "metadata": {},
   "outputs": [
    {
     "data": {
      "text/plain": [
       "20"
      ]
     },
     "execution_count": 14,
     "metadata": {},
     "output_type": "execute_result"
    }
   ],
   "source": [
    "multiply_by_num(3,1)\n",
    "multiply_by_num(1,y=2)\n",
    "multiply_by_num(y=2,x=1)\n",
    "multiply_by_num(1,2,5)\n",
    "multiply_by_num(x=1,y=1,z=8)\n",
    "multiply_by_num(z=2,y=9,x=1)"
   ]
  },
  {
   "cell_type": "code",
   "execution_count": 29,
   "id": "4383fc0b-66f4-4dbd-8111-6eae01541531",
   "metadata": {},
   "outputs": [],
   "source": [
    "#arbitrary arguments - parameter name will be *agrs means n>=0 number of argumnets : read as tuple\n",
    "def sum(x,y,*num):\n",
    "    sum=0\n",
    "    for i in num:\n",
    "        sum+=i\n",
    "    return x+y+sum"
   ]
  },
  {
   "cell_type": "code",
   "execution_count": 37,
   "id": "d01fa0f6-e311-4bf4-ac94-c8b9a4a140c9",
   "metadata": {},
   "outputs": [
    {
     "data": {
      "text/plain": [
       "2"
      ]
     },
     "execution_count": 37,
     "metadata": {},
     "output_type": "execute_result"
    }
   ],
   "source": [
    "sum(2,1,6,7)\n",
    "sum(x=1,y=7)\n",
    "# sum(x=1,y=1,num=6)\n",
    "sum(x=1,y=1)"
   ]
  },
  {
   "cell_type": "code",
   "execution_count": 55,
   "id": "a9e9f243-0371-4efc-9f99-dd960e671ef9",
   "metadata": {},
   "outputs": [],
   "source": [
    "#**kargs parameter name will be kargs contains n>=0 number of key=value :read as dictionary\n",
    "dict1={\"name\":\"Swati\",\"age\":24}\n",
    "def employee(name,age,**kargs):\n",
    "    dict1.update(kargs)\n",
    "    dict1.update({\"name\":name,\"age\":age})"
   ]
  },
  {
   "cell_type": "code",
   "execution_count": 56,
   "id": "d15b1173-6b8b-445f-bc26-6dd4f5cbb5a0",
   "metadata": {},
   "outputs": [
    {
     "name": "stdout",
     "output_type": "stream",
     "text": [
      "{'name': 'Swati Mehta', 'age': 25, 'city': 'Patna'}\n"
     ]
    }
   ],
   "source": [
    "employee(name=\"Swati Mehta\",age=25,city=\"Patna\")\n",
    "\n",
    "print(dict1)"
   ]
  },
  {
   "cell_type": "code",
   "execution_count": 60,
   "id": "dfe3c2a6-33de-475d-bc64-45701bd30e08",
   "metadata": {},
   "outputs": [],
   "source": [
    "def is_prime(x):\n",
    "    if x==1:\n",
    "        return False\n",
    "    if x==2:\n",
    "        return True\n",
    "    for i in range(2,x):\n",
    "        if x % i == 0:\n",
    "            return False\n",
    "    return True"
   ]
  },
  {
   "cell_type": "code",
   "execution_count": 84,
   "id": "2c90de28-eb6e-47ea-8104-83e70837b92d",
   "metadata": {},
   "outputs": [
    {
     "name": "stdout",
     "output_type": "stream",
     "text": [
      "[2, 3, 5, 7, 11, 13, 17, 19, 23, 29]\n"
     ]
    }
   ],
   "source": [
    "l2=[i for i in range(2,30) if is_prime(i)]\n",
    "print(l2)\n",
    "def count_sexy_prime(list1):\n",
    "    count=0 #6\n",
    "    for i in range(len(list1)):\n",
    "        # i=0,1,2,3,4,5,6,7,8,9\n",
    "        for j in range(i+1,len(list1)):\n",
    "            # i=9\n",
    "            # j=10\n",
    "            if list1[i]-list1[j]==6 or list1[i]-list1[j] == -6:\n",
    "                count=count+1 #count=1+1+1+1+1+1\n",
    "                break\n",
    "    return count"
   ]
  },
  {
   "cell_type": "code",
   "execution_count": 85,
   "id": "c753ac5f-3f85-4fae-81bd-c7c36ce4b415",
   "metadata": {},
   "outputs": [
    {
     "name": "stdout",
     "output_type": "stream",
     "text": [
      "6\n"
     ]
    }
   ],
   "source": [
    "print(count_sexy_prime(l2))"
   ]
  },
  {
   "cell_type": "code",
   "execution_count": 86,
   "id": "f2a88b34-8d74-475f-9250-22e2f1dced18",
   "metadata": {},
   "outputs": [],
   "source": [
    "def count_pair(x,y):\n",
    "    count=0\n",
    "    for i in range(x,y+1):\n",
    "        if (i+6)<=y and is_prime(i) and is_prime(i+6):\n",
    "            count=count+1\n",
    "    return count    "
   ]
  },
  {
   "cell_type": "code",
   "execution_count": 88,
   "id": "20652fdc-f779-4513-a42f-71b0872703d3",
   "metadata": {},
   "outputs": [
    {
     "data": {
      "text/plain": [
       "6"
      ]
     },
     "execution_count": 88,
     "metadata": {},
     "output_type": "execute_result"
    }
   ],
   "source": [
    "count_pair(2,30)"
   ]
  },
  {
   "cell_type": "code",
   "execution_count": 93,
   "id": "e2929313-58db-48f9-a213-4e610e13211c",
   "metadata": {},
   "outputs": [],
   "source": [
    "import pickle \n",
    "with open(\"student.json\",\"ab+\") as file:\n",
    "    student_data={\n",
    "        \"name\":\"swati\",\n",
    "        \"age\":24\n",
    "    }\n",
    "    pickle.dump(student_data, file)"
   ]
  },
  {
   "cell_type": "code",
   "execution_count": 112,
   "id": "f1f02515-d253-4a60-88aa-c2a49f225a26",
   "metadata": {},
   "outputs": [
    {
     "name": "stdout",
     "output_type": "stream",
     "text": [
      "<class 'dict'>\n",
      "{'name': 'Swati', 'age': 24}\n"
     ]
    }
   ],
   "source": [
    "# with open(\"student.json\",\"rb\") as file:\n",
    "with open(\"employee_data.txt\",\"rb\") as file1:\n",
    "    data=pickle.load(file1)\n",
    "    print(type(data))\n",
    "    print(data)"
   ]
  },
  {
   "cell_type": "code",
   "execution_count": 117,
   "id": "9e313dcc-f39c-4049-8589-0c29a27c6377",
   "metadata": {},
   "outputs": [
    {
     "name": "stdout",
     "output_type": "stream",
     "text": [
      "{'name': 'Swati', 'age': 24}\n",
      "data added\n"
     ]
    }
   ],
   "source": [
    "import time\n",
    "with open(\"employee_data.txt\",\"ab+\") as file1:\n",
    "    data={\"name\":\"Swati\",\"age\":24}\n",
    "    pickle.dump(data,file1)\n",
    "    data={\"name\":\"SwatiM\"}\n",
    "    pickle.dump(data,file1)\n",
    "    time.sleep(5)\n",
    "with open('employee_data.txt', 'rb') as f:\n",
    "    data = pickle.load(f)\n",
    "    print(data)\n",
    "\n",
    "print(\"data added\")\n",
    "    # data={\"name\":\"Mehta\"}\n",
    "    # pickle.dump(data,file1)\n",
    "    # data=pickle.load(file1)"
   ]
  },
  {
   "cell_type": "code",
   "execution_count": null,
   "id": "b0a6e746-61cc-4ebf-ac44-d367b20d094e",
   "metadata": {},
   "outputs": [],
   "source": []
  }
 ],
 "metadata": {
  "kernelspec": {
   "display_name": "Python 3 (ipykernel)",
   "language": "python",
   "name": "python3"
  },
  "language_info": {
   "codemirror_mode": {
    "name": "ipython",
    "version": 3
   },
   "file_extension": ".py",
   "mimetype": "text/x-python",
   "name": "python",
   "nbconvert_exporter": "python",
   "pygments_lexer": "ipython3",
   "version": "3.11.3"
  }
 },
 "nbformat": 4,
 "nbformat_minor": 5
}
