{
 "cells": [
  {
   "cell_type": "code",
   "execution_count": 71,
   "id": "99434d7a-a2e1-4d37-98c6-d97f7f8d6ab1",
   "metadata": {},
   "outputs": [],
   "source": [
    "set1={1,2,\"s\"}\n",
    "set2={4,5,\"m\"}\n",
    "seta={6,7,\"a\"}"
   ]
  },
  {
   "cell_type": "code",
   "execution_count": 50,
   "id": "3c567e45-69f5-480c-ba78-3a7eb6530b46",
   "metadata": {},
   "outputs": [
    {
     "name": "stdout",
     "output_type": "stream",
     "text": [
      "True\n"
     ]
    }
   ],
   "source": [
    "#check if element exist in iterator\n",
    "print(\"m\" in set2)"
   ]
  },
  {
   "cell_type": "code",
   "execution_count": 93,
   "id": "8190d7b8-5918-4c4b-8600-b34ca02f572c",
   "metadata": {},
   "outputs": [],
   "source": [
    "#join or union of sets\n",
    "# using operator(|) \n",
    "set3=set1|set2\n",
    "set4=set1|set2|seta\n",
    "# using function ; function name:union > return new set\n",
    "set3=set1.union(set2)\n",
    "set5=set1.union(seta).union(set2)\n",
    "set1.update({1,5})\n",
    "seta.add(5)\n",
    "set1.update({1,2,4,5})\n",
    "seta.update({6,7,4,5})"
   ]
  },
  {
   "cell_type": "code",
   "execution_count": 95,
   "id": "9803b0d0-d515-4117-9774-a69a91c4890b",
   "metadata": {},
   "outputs": [
    {
     "data": {
      "text/plain": [
       "{4, 5}"
      ]
     },
     "execution_count": 95,
     "metadata": {},
     "output_type": "execute_result"
    }
   ],
   "source": [
    "#intersection of sets\n",
    "# using operator \"&\" \n",
    "seti = set1 & set2 & seta\n",
    "# using function : function name:intersection return new set\n",
    "set1.intersection(set2).intersection(seta)"
   ]
  },
  {
   "cell_type": "code",
   "execution_count": 107,
   "id": "b18bfe0a-c36a-4550-9702-ecfe4f0acbd4",
   "metadata": {},
   "outputs": [
    {
     "data": {
      "text/plain": [
       "{1, 2, 'm', 's'}"
      ]
     },
     "execution_count": 107,
     "metadata": {},
     "output_type": "execute_result"
    }
   ],
   "source": [
    "#difference of sets\n",
    "# using operator \"-\"\n",
    "setm=set1 - (set2 - seta)\n",
    "# using function : function name:difference : return new set\n",
    "set1.difference(set2).difference(seta)\n",
    "(set1|set2)-seta"
   ]
  },
  {
   "cell_type": "code",
   "execution_count": 112,
   "id": "c4f70a48-9f6b-4322-92d3-179da587bb7b",
   "metadata": {},
   "outputs": [
    {
     "data": {
      "text/plain": [
       "{1, 2, 4, 5, 6, 7, 'a', 'm', 's'}"
      ]
     },
     "execution_count": 112,
     "metadata": {},
     "output_type": "execute_result"
    }
   ],
   "source": [
    "#symmetric difference in set\n",
    "#using opertor \"^\"\n",
    "set1^set2^seta\n",
    "#using function : function name :symmetric_difference :return new set\n",
    "set1.symmetric_difference(set2).symmetric_difference(seta)"
   ]
  },
  {
   "cell_type": "code",
   "execution_count": 104,
   "id": "8457d1bd-10ca-467b-8f98-e169c96c7bce",
   "metadata": {},
   "outputs": [
    {
     "name": "stdout",
     "output_type": "stream",
     "text": [
      "{1, 2, 4, 5, 's'}\n",
      "{4, 5, 'm'}\n",
      "{4, 5, 6, 7, 'a'}\n",
      "{1, 2, 4, 5, 's'}\n"
     ]
    }
   ],
   "source": [
    "print(set1)\n",
    "print(set2)\n",
    "print(seta)\n",
    "print(setm)"
   ]
  },
  {
   "cell_type": "code",
   "execution_count": 118,
   "id": "f6396e4f-c17c-4de1-ad48-dc618d5c7df1",
   "metadata": {},
   "outputs": [
    {
     "data": {
      "text/plain": [
       "True"
      ]
     },
     "execution_count": 118,
     "metadata": {},
     "output_type": "execute_result"
    }
   ],
   "source": [
    "set1={1,2,3}\n",
    "set2={1,2,3,4,5}\n",
    "#issubset \n",
    "set1.issubset(set2)\n",
    "set2.issubset(set1)\n",
    "#issuperset\n",
    "set1.issuperset(set2)\n",
    "set2.issuperset(set1)"
   ]
  },
  {
   "cell_type": "code",
   "execution_count": null,
   "id": "25bda768-e647-4387-9cfc-c1c78c0b1cb2",
   "metadata": {},
   "outputs": [],
   "source": []
  }
 ],
 "metadata": {
  "kernelspec": {
   "display_name": "Python 3 (ipykernel)",
   "language": "python",
   "name": "python3"
  },
  "language_info": {
   "codemirror_mode": {
    "name": "ipython",
    "version": 3
   },
   "file_extension": ".py",
   "mimetype": "text/x-python",
   "name": "python",
   "nbconvert_exporter": "python",
   "pygments_lexer": "ipython3",
   "version": "3.11.3"
  }
 },
 "nbformat": 4,
 "nbformat_minor": 5
}
